{
 "cells": [
  {
   "cell_type": "code",
   "execution_count": 1,
   "id": "4d49860f",
   "metadata": {},
   "outputs": [],
   "source": [
    "import numpy as np"
   ]
  },
  {
   "cell_type": "code",
   "execution_count": 8,
   "id": "6141ee70",
   "metadata": {
    "scrolled": true
   },
   "outputs": [
    {
     "name": "stdout",
     "output_type": "stream",
     "text": [
      "21.05\n",
      "364.06\n"
     ]
    }
   ],
   "source": [
    "### Missing species CCH2OH\n",
    "#DFT energies\n",
    "\n",
    "E_CCH2OH=-1138.752206+1.055\n",
    "E_CH4=-325.5155569+1.222\n",
    "E_CCH3=-561.1177472+0.919\n",
    "E_CH3OH=-902.9568415+1.383\n",
    "\n",
    "dHrxn=E_CH3OH+E_CCH3-E_CH4-E_CCH2OH\n",
    "dHrxn*=96.485 #in kJ/mol\n",
    "print(np.round(dHrxn,2))\n",
    "#ATcT values\n",
    "dfH_CH4=-66.551\n",
    "dfH_CCH3=508.6\n",
    "dfH_CH3OH=-190.04\n",
    "\n",
    "dfH_CCH2OH=dfH_CH3OH+dfH_CCH3-dfH_CH4-dHrxn\n",
    "print(np.round(dfH_CCH2OH,2)) #in kJ/mol"
   ]
  },
  {
   "cell_type": "code",
   "execution_count": 10,
   "id": "b500d606",
   "metadata": {},
   "outputs": [
    {
     "name": "stdout",
     "output_type": "stream",
     "text": [
      "83.88\n",
      "-178.45\n"
     ]
    }
   ],
   "source": [
    "### Missing species OCH2OH\n",
    "#DFT energies\n",
    "\n",
    "E_OCH2OH=-1462.071536+1.094\n",
    "E_CH4=-325.5155569+1.222\n",
    "E_OCH3=-883.7878439+0.96\n",
    "E_CH3OH=-902.9568415+1.383\n",
    "\n",
    "dHrxn=E_CH3OH+E_OCH3-E_CH4-E_OCH2OH\n",
    "dHrxn*=96.485 #in kJ/mol\n",
    "print(np.round(dHrxn,2))\n",
    "#ATcT values\n",
    "dfH_CH4=-66.551\n",
    "dfH_OCH3=28.92\n",
    "dfH_CH3OH=-190.04\n",
    "\n",
    "dfH_OCH2OH=dfH_CH3OH+dfH_OCH3-dfH_CH4-dHrxn\n",
    "print(np.round(dfH_OCH2OH,2)) #in kJ/mol"
   ]
  },
  {
   "cell_type": "code",
   "execution_count": 12,
   "id": "61dcd848",
   "metadata": {},
   "outputs": [
    {
     "name": "stdout",
     "output_type": "stream",
     "text": [
      "3.63\n",
      "-359.26\n"
     ]
    }
   ],
   "source": [
    "### Missing species CH3OCH2OH\n",
    "#DFT energies\n",
    "\n",
    "E_CH3OCH2OH=-1772.510052+2.292\n",
    "E_CH3OCH3=-1194.509052+2.148\n",
    "E_HOCH2OH=-1480.911199+1.518\n",
    "E_CH3OH=-902.9568415+1.383\n",
    "\n",
    "dHrxn=E_HOCH2OH+E_CH3OCH3-E_CH3OH-E_CH3OCH2OH\n",
    "dHrxn*=96.485 #in kJ/mol\n",
    "print(np.round(dHrxn,2))\n",
    "#ATcT values\n",
    "dfH_CH3OCH3=-166.51\n",
    "dfH_HOCH2OH=-379.16\n",
    "dfH_CH3OH=-190.04\n",
    "\n",
    "dfH_CH3OCH2OH=dfH_CH3OCH3+dfH_HOCH2OH-dfH_CH3OH-dHrxn\n",
    "print(np.round(dfH_CH3OCH2OH,2)) #in kJ/mol"
   ]
  },
  {
   "cell_type": "code",
   "execution_count": 13,
   "id": "c3999204",
   "metadata": {},
   "outputs": [
    {
     "name": "stdout",
     "output_type": "stream",
     "text": [
      "2.01\n",
      "-18.47\n"
     ]
    }
   ],
   "source": [
    "### Missing species CH3CH2CO\n",
    "#DFT energies\n",
    "\n",
    "E_CH3CH2CO=-1434.700088+1.924\n",
    "E_CH2CH3=-598.1490992+1.605\n",
    "E_CH2CH2CH3=-890.0307919+2.389\n",
    "E_CH3CO=-1142.803527+1.146\n",
    "\n",
    "dHrxn=E_CH2CH2CH3+E_CH3CO-E_CH2CH3-E_CH3CH2CO\n",
    "dHrxn*=96.485 #in kJ/mol\n",
    "print(np.round(dHrxn,2))\n",
    "#ATcT values\n",
    "dfH_CH2CH2CH3=118.38\n",
    "dfH_CH3CO=-3.46\n",
    "dfH_CH2CH3=131.38\n",
    "\n",
    "dfH_CH3CH2CO=dfH_CH2CH2CH3+dfH_CH3CO-dfH_CH2CH3-dHrxn\n",
    "print(np.round(dfH_CH3CH2CO,2)) #in kJ/mol"
   ]
  },
  {
   "cell_type": "code",
   "execution_count": 15,
   "id": "c3d32f9f",
   "metadata": {},
   "outputs": [
    {
     "name": "stdout",
     "output_type": "stream",
     "text": [
      "97.4\n",
      "372.37\n"
     ]
    }
   ],
   "source": [
    "### Missing species CCHO\n",
    "#DFT energies\n",
    "\n",
    "E_CCHO=-1105.688976+0.539\n",
    "E_H2CO=-868.9533363+0.718\n",
    "E_CH4=-325.5155569+1.222\n",
    "E_CCH3=-561.1177472+0.919\n",
    "\n",
    "dHrxn=E_CCH3+E_H2CO-E_CH4-E_CCHO\n",
    "dHrxn*=96.485 #in kJ/mol\n",
    "print(np.round(dHrxn,2))\n",
    "#ATcT values\n",
    "dfH_CH4=-66.551\n",
    "dfH_CCH3=508.6\n",
    "dfH_H2CO=-105.389\n",
    "\n",
    "dfH_CCHO=dfH_CCH3+dfH_H2CO-dfH_CH4-dHrxn\n",
    "print(np.round(dfH_CCHO,2)) #in kJ/mol"
   ]
  },
  {
   "cell_type": "code",
   "execution_count": null,
   "id": "f7503a3e",
   "metadata": {},
   "outputs": [],
   "source": []
  }
 ],
 "metadata": {
  "kernelspec": {
   "display_name": "Python 3 (ipykernel)",
   "language": "python",
   "name": "python3"
  },
  "language_info": {
   "codemirror_mode": {
    "name": "ipython",
    "version": 3
   },
   "file_extension": ".py",
   "mimetype": "text/x-python",
   "name": "python",
   "nbconvert_exporter": "python",
   "pygments_lexer": "ipython3",
   "version": "3.7.13"
  }
 },
 "nbformat": 4,
 "nbformat_minor": 5
}
