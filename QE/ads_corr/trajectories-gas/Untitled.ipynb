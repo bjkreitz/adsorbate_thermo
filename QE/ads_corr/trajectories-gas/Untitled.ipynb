{
 "cells": [
  {
   "cell_type": "code",
   "execution_count": 2,
   "id": "8d2f481d",
   "metadata": {},
   "outputs": [
    {
     "name": "stdout",
     "output_type": "stream",
     "text": [
      "[30.13, 21.87, 13.84]\n"
     ]
    }
   ],
   "source": [
    "from ase import Atoms\n",
    "from ase.build import molecule\n",
    "import numpy as np\n",
    "from ase.io import read,write\n",
    "from ase.visualize import view\n",
    "\n",
    "file='chch2ch'\n",
    "name=\"\".join((file,'.traj'))\n",
    "\n",
    "species=read(name)\n",
    "view(species)\n",
    "\n",
    "I=Atoms.get_moments_of_inertia(species)\n",
    "#print(I) #units of amu angstrom2\n",
    "amu_to_kg = 1.66054e-27 #kg per amu\n",
    "angstrom_to_m = 1e-10 #m per angstrom\n",
    "I = I*amu_to_kg*angstrom_to_m**2.0 #kg m2\n",
    "\n",
    "h=6.62607e-34 #Js or m2kg/s or J Hz-1\n",
    "c=2.9979e8 #m/s\n",
    "B = h/(8.0*np.pi**2.0*c*I) #in 1/m\n",
    "B = B*c/1e9 #in GHZ\n",
    "\n",
    "B=list(np.round(B,2))\n",
    "print(B)"
   ]
  },
  {
   "cell_type": "code",
   "execution_count": null,
   "id": "7d34d3a3",
   "metadata": {},
   "outputs": [],
   "source": []
  }
 ],
 "metadata": {
  "kernelspec": {
   "display_name": "Python 3 (ipykernel)",
   "language": "python",
   "name": "python3"
  },
  "language_info": {
   "codemirror_mode": {
    "name": "ipython",
    "version": 3
   },
   "file_extension": ".py",
   "mimetype": "text/x-python",
   "name": "python",
   "nbconvert_exporter": "python",
   "pygments_lexer": "ipython3",
   "version": "3.7.13"
  }
 },
 "nbformat": 4,
 "nbformat_minor": 5
}
